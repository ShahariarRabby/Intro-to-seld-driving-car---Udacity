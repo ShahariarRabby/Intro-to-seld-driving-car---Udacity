{
 "cells": [
  {
   "cell_type": "markdown",
   "metadata": {},
   "source": [
    "## Raw Input Data\n",
    "\n",
    "The data you'll be working with has been preprocessed from CSVs that looks like this:\n",
    "\n",
    "| timestamp | displacement  | yaw_rate | acceleration |\n",
    "| :-------: | :----------: | :------: | :----------: |\n",
    "| 0.0 | 0 | 0.0 | 0.0 |\n",
    "| 0.25 | 0.0 | 0.0 | 19.6 |\n",
    "| 0.5 | 1.225 | 0.0 | 19.6 |\n",
    "| 0.75 | 3.675 | 0.0 | 19.6 |\n",
    "| 1.0 | 7.35 | 0.0 | 19.6 |\n",
    "| 1.25 | 12.25 | 0.0 | 0.0 |\n",
    "| 1.5 | 17.15 | -2.82901631903 | 0.0 |\n",
    "| 1.75 | 22.05 | -2.82901631903 | 0.0 |\n",
    "| 2.0 | 26.95 | -2.82901631903 | 0.0 |\n",
    "| 2.25 | 31.85 | -2.82901631903 | 0.0 |\n",
    "| 2.5 | 36.75 | -2.82901631903 | 0.0 |\n",
    "| 2.75 | 41.65 | -2.82901631903 | 0.0 |\n",
    "| 3.0 | 46.55 | -2.82901631903 | 0.0 |\n",
    "| 3.25 | 51.45 | -2.82901631903 | 0.0 |\n",
    "| 3.5 | 56.35 | -2.82901631903 | 0.0 |\n",
    "\n",
    "This data is currently saved in a file called `trajectory_example.pickle`. It can be loaded using a helper function we've provided (demonstrated below):"
   ]
  },
  {
   "cell_type": "code",
   "execution_count": null,
   "metadata": {},
   "outputs": [],
   "source": []
  },
  {
   "cell_type": "code",
   "execution_count": 2,
   "metadata": {},
   "outputs": [
    {
     "name": "stdout",
     "output_type": "stream",
     "text": [
      "(0.0, 0, 0.0, 0.0)\n",
      "(0.25, 0.0, 0.0, 19.600000000000001)\n",
      "(0.5, 1.2250000000000001, 0.0, 19.600000000000001)\n",
      "(0.75, 3.6750000000000003, 0.0, 19.600000000000001)\n",
      "(1.0, 7.3500000000000005, 0.0, 19.600000000000001)\n",
      "(1.25, 12.25, 0.0, 0.0)\n",
      "(1.5, 17.149999999999999, -2.8290163190291664, 0.0)\n",
      "(1.75, 22.049999999999997, -2.8290163190291664, 0.0)\n",
      "(2.0, 26.949999999999996, -2.8290163190291664, 0.0)\n",
      "(2.25, 31.849999999999994, -2.8290163190291664, 0.0)\n",
      "(2.5, 36.749999999999993, -2.8290163190291664, 0.0)\n",
      "(2.75, 41.649999999999991, -2.8290163190291664, 0.0)\n",
      "(3.0, 46.54999999999999, -2.8290163190291664, 0.0)\n",
      "(3.25, 51.449999999999989, -2.8290163190291664, 0.0)\n",
      "(3.5, 56.349999999999987, -2.8290163190291664, 0.0)\n"
     ]
    }
   ],
   "source": [
    "from helpers import process_data\n",
    "%matplotlib inline\n",
    "\n",
    "data_list = process_data(\"trajectory_example.pickle\")\n",
    "\n",
    "for entry in data_list:\n",
    "    print(entry)"
   ]
  },
  {
   "cell_type": "code",
   "execution_count": 14,
   "metadata": {},
   "outputs": [
    {
     "data": {
      "text/plain": [
       "[0.0,\n",
       " 0.25,\n",
       " 0.5,\n",
       " 0.75,\n",
       " 1.0,\n",
       " 1.25,\n",
       " 1.5,\n",
       " 1.75,\n",
       " 2.0,\n",
       " 2.25,\n",
       " 2.5,\n",
       " 2.75,\n",
       " 3.0,\n",
       " 3.25,\n",
       " 3.5]"
      ]
     },
     "execution_count": 14,
     "metadata": {},
     "output_type": "execute_result"
    }
   ],
   "source": [
    " [row[0] for row in data_list]\n"
   ]
  },
  {
   "cell_type": "markdown",
   "metadata": {},
   "source": [
    "as you can see, each entry in `data_list` contains four fields. Those fields correspond to `timestamp` (seconds), `displacement` (meters), `yaw_rate` (rads / sec), and `acceleration` (m/s/s).\n",
    "\n",
    "### The Point of this Project!\n",
    "**Data tells a story but you have to know how to find it!** \n",
    "\n",
    "Contained in the data above is all the information you need to reconstruct a fairly complex vehicle trajectory. After processing **this** exact data, it's possible to generate this plot of the vehicle's X and Y position:\n",
    "\n",
    "![](https://d17h27t6h515a5.cloudfront.net/topher/2017/December/5a3044ac_example-trajectory/example-trajectory.png)\n",
    "\n",
    "as you can see, this vehicle first accelerates forwards and then turns right until it almost completes a full circle turn.\n",
    "\n",
    "### Data Explained\n",
    "\n",
    "**`timestamp`** - Timestamps are all measured in seconds. The time between successive timestamps ($\\Delta t$) will always be the same *within* a trajectory's data set (but not *between* data sets).\n",
    "\n",
    "**`displacement`** - Displacement data from the odometer is in meters and gives the **total** distance traveled up to this point.\n",
    "\n",
    "**`yaw_rate`** - Yaw rate is measured in radians per second with the convention that positive yaw corresponds to *counter-clockwise* rotation. \n",
    "\n",
    "**`acceleration`** - Acceleration is measured in $\\frac{m/s}{s}$ and is always **in the direction of motion of the vehicle** (forward). \n",
    "\n",
    "> **NOTE** - you may not need to use all of this data when reconstructing vehicle trajectories."
   ]
  },
  {
   "cell_type": "markdown",
   "metadata": {},
   "source": [
    "## Your Job\n",
    "Your job is to complete the following functions, all of which take a processed `data_list` (with $N$ entries, each $\\Delta t$ apart) as input:\n",
    "\n",
    "* `get_speeds` - returns a length $N$ list where entry $i$ contains the speed ($m/s$) of the vehicle at $t = i \\times \\Delta t$ \n",
    "\n",
    "* `get_headings` - returns a length $N$ list where entry $i$ contains the heading (radians, $0 \\leq \\theta < 2\\pi$) of the vehicle at $t = i \\times \\Delta t$\n",
    "\n",
    "* `get_x_y` - returns a length $N$ list where entry $i$ contains an `(x, y)` tuple corresponding to the $x$ and $y$ coordinates (meters) of the vehicle at $t = i \\times \\Delta t$ \n",
    "\n",
    "* `show_x_y` - generates an x vs. y scatter plot of vehicle positions. "
   ]
  },
  {
   "cell_type": "code",
   "execution_count": 4,
   "metadata": {},
   "outputs": [
    {
     "data": {
      "image/png": "[encoded data removed]",
      "text/plain": [
       "<matplotlib.figure.Figure at 0x7f9f26d80f98>"
      ]
     },
     "metadata": {
      "needs_background": "light"
     },
     "output_type": "display_data"
    }
   ],
   "source": [
    "# I've provided a solution file called solution.py\n",
    "# You are STRONGLY encouraged to NOT look at the code\n",
    "# until after you have solved this yourself.\n",
    "#\n",
    "# You SHOULD, however, feel free to USE the solution \n",
    "# functions to help you understand what your code should\n",
    "# be doing. For example...\n",
    "from helpers import process_data\n",
    "import solution\n",
    "\n",
    "data_list = process_data(\"trajectory_example.pickle\")\n",
    "solution.show_x_y(data_list)"
   ]
  },
  {
   "cell_type": "code",
   "execution_count": 3,
   "metadata": {},
   "outputs": [
    {
     "data": {
      "image/png": "[encoded data removed]",
      "text/plain": [
       "<matplotlib.figure.Figure at 0x7f9f24cdc278>"
      ]
     },
     "metadata": {
      "needs_background": "light"
     },
     "output_type": "display_data"
    }
   ],
   "source": [
    "# What about the other trajectories?\n",
    "\n",
    "three_quarter_turn_data = process_data(\"trajectory_1.pickle\")\n",
    "solution.show_x_y(three_quarter_turn_data, increment=10)"
   ]
  },
  {
   "cell_type": "code",
   "execution_count": null,
   "metadata": {},
   "outputs": [],
   "source": [
    "merge_data = process_data('trajectory_2.pickle')\n",
    "solution.show_x_y(merge_data,increment=10)"
   ]
  },
  {
   "cell_type": "code",
   "execution_count": null,
   "metadata": {},
   "outputs": [],
   "source": [
    "parallel_park = process_data(\"trajectory_3.pickle\")\n",
    "solution.show_x_y(parallel_park,increment=5)"
   ]
  },
  {
   "cell_type": "markdown",
   "metadata": {},
   "source": [
    "**How do you make those cool arrows?!**\n",
    "\n",
    "I did a Google search for \"python plot grid of arrows\" and the second result led me to some [demonstration code](https://matplotlib.org/examples/pylab_examples/quiver_demo.html) that was really helpful. "
   ]
  },
  {
   "cell_type": "markdown",
   "metadata": {},
   "source": [
    "## Testing Correctness\n",
    "Testing code is provided at the bottom of this notebook. Note that only `get_speeds`, `get_x_y`, and `get_headings` are tested automatically. You will have to \"test\" your `show_x_y` function by manually comparing your plots to the expected plots. "
   ]
  },
  {
   "cell_type": "markdown",
   "metadata": {},
   "source": [
    "### Initial Vehicle State\n",
    "\n",
    "The vehicle always begins with all state variables equal to zero. This means `x`, `y`, `theta` (heading), `speed`, `yaw_rate`, and `acceleration` are 0 at t=0."
   ]
  },
  {
   "cell_type": "markdown",
   "metadata": {},
   "source": [
    "----"
   ]
  },
  {
   "cell_type": "markdown",
   "metadata": {},
   "source": [
    "## Your Code!\n",
    "Complete the functions in the cell below. I recommend completing them in the order shown. Use the cells at the end of the notebook to test as you go."
   ]
  },
  {
   "cell_type": "code",
   "execution_count": 49,
   "metadata": {},
   "outputs": [],
   "source": [
    "\n",
    "import numpy as np\n",
    "from math import pi\n",
    "from matplotlib import pyplot as plt\n",
    "\n",
    "\n",
    "def get_speeds(data_list):\n",
    "    timestamps =  [row[0] for row in data_list]\n",
    "    displacement =  [row[1] for row in data_list]\n",
    "    \n",
    "    delta_t = timestamps[1]- timestamps[0]\n",
    "    speed = [0]\n",
    "    t_initial = timestamps[0]\n",
    "    displacement_initital = displacement[0]\n",
    "    \n",
    "    for i in range(1,len(displacement)):\n",
    "        delta_x = displacement[i]-displacement_initital\n",
    "        \n",
    "        velocity = delta_x / delta_t\n",
    "        speed.append(velocity)\n",
    "        displacement_initital = displacement[i]\n",
    "        \n",
    "    return speed\n",
    "\n",
    "def get_headings(data_list):\n",
    "    # integrate yaw rates to obtain hding angles\n",
    "    Yaw_rate =  [row[2] for row in data_list]\n",
    "    timestamps =  [row[0] for row in data_list]\n",
    "    \n",
    "    #integral code\n",
    "    angles = [0]\n",
    "    initial_t = timestamps[0]\n",
    "    del_t = timestamps[1]-timestamps[0]\n",
    "    accumulate = 0\n",
    "    for i in range(1,len(Yaw_rate)):\n",
    "        del_v = Yaw_rate[i]*del_t\n",
    "        \n",
    "        accumulate += del_v\n",
    "        angles.append(accumulate)\n",
    "        \n",
    "        #angles in radians\n",
    "        \n",
    "\n",
    "    return angles\n",
    "\n",
    "def get_x_y(data_list):\n",
    "    speeds = get_speeds(data_list)\n",
    "    thetas = get_headings(data_list)\n",
    "    last_time =0.0\n",
    "    x =0.0\n",
    "    y = 0.0\n",
    "    \n",
    "    position = [(x,y)]\n",
    "    for i in range(1,len(speeds)):\n",
    "        speed = speeds[i]\n",
    "        theta = thetas[i]\n",
    "        entry = data_list[i]\n",
    "        ts, disp, yaw, acc = entry\n",
    "        dt = ts - last_time\n",
    "        D  = speed * dt\n",
    "        dx = D * np.cos(theta)\n",
    "        dy = D * np.sin(theta)\n",
    "        x += dx\n",
    "        y += dy\n",
    "        position.append((x,y))\n",
    "        last_time = ts\n",
    "            \n",
    "        \n",
    "    return position\n",
    "\n",
    "def show_x_y(data_list,increment =1):\n",
    "    XY = get_x_y(data_list)\n",
    "    heading = get_headings(data_list)\n",
    "    X = [d[0] for d in XY]\n",
    "    Y = [d[1] for d in XY]\n",
    "    dx = np.cos(heading)\n",
    "    dy = np.sin(heading)\n",
    "    Q = plt.quiver(X[::increment],\n",
    "                   Y[::increment],\n",
    "                   dx[::increment],\n",
    "                   dy[::increment],\n",
    "                   units='x',\n",
    "                   pivot='tip')\n",
    "    qk = plt.quiverkey(Q, 0.9, 0.9, 2, r'$1 \\frac{m}{s}',\n",
    "                       labelpos='E', coordinates='figure')\n",
    "    plt.show()\n",
    "\n",
    "    return"
   ]
  },
  {
   "cell_type": "markdown",
   "metadata": {},
   "source": [
    "## Testing\n",
    "Test your functions by running the cells below."
   ]
  },
  {
   "cell_type": "code",
   "execution_count": 50,
   "metadata": {},
   "outputs": [
    {
     "name": "stdout",
     "output_type": "stream",
     "text": [
      "PASSED test of get_speeds function!\n"
     ]
    }
   ],
   "source": [
    "from testing import test_get_speeds, test_get_x_y, test_get_headings\n",
    "\n",
    "test_get_speeds(get_speeds)"
   ]
  },
  {
   "cell_type": "code",
   "execution_count": 51,
   "metadata": {},
   "outputs": [
    {
     "name": "stdout",
     "output_type": "stream",
     "text": [
      "PASSED test of get_headings function!\n"
     ]
    }
   ],
   "source": [
    "test_get_headings(get_headings)"
   ]
  },
  {
   "cell_type": "code",
   "execution_count": 52,
   "metadata": {},
   "outputs": [
    {
     "name": "stdout",
     "output_type": "stream",
     "text": [
      "PASSED test of get_x_y function!\n"
     ]
    }
   ],
   "source": [
    "test_get_x_y(get_x_y)"
   ]
  },
  {
   "cell_type": "code",
   "execution_count": 53,
   "metadata": {},
   "outputs": [
    {
     "data": {
      "image/png": "[encoded data removed]",
      "text/plain": [
       "<matplotlib.figure.Figure at 0x7f2f1a2fd438>"
      ]
     },
     "metadata": {
      "needs_background": "light"
     },
     "output_type": "display_data"
    }
   ],
   "source": [
    "three_quarter_turn_data = process_data(\"trajectory_1.pickle\")\n",
    "show_x_y(three_quarter_turn_data, increment=10)\n",
    "data_list = process_data(\"trajectory_example.pickle\")\n",
    "show_x_"
   ]
  },
  {
   "cell_type": "code",
   "execution_count": null,
   "metadata": {},
   "outputs": [],
   "source": []
  }
 ],
 "metadata": {
  "kernelspec": {
   "display_name": "Python 3",
   "language": "python",
   "name": "python3"
  },
  "language_info": {
   "codemirror_mode": {
    "name": "ipython",
    "version": 3
   },
   "file_extension": ".py",
   "mimetype": "text/x-python",
   "name": "python",
   "nbconvert_exporter": "python",
   "pygments_lexer": "ipython3",
   "version": "3.6.3"
  }
 },
 "nbformat": 4,
 "nbformat_minor": 2
}
